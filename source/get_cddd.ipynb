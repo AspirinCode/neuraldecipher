{
 "cells": [
  {
   "cell_type": "markdown",
   "metadata": {},
   "source": [
    "## Get CDDD notebook script\n",
    "This notebook contains the script to encode the SMILES representation as CDDD representations\n",
    "Make sure to execute the `source/run_cddd_inference_server.py` in another process within the `neuraldecipher` environment, such that the CDDD inference server can be used to encode the SMILES representations to CDDD.  \n",
    "To run the CDDD-server on one GPU 0 with 2 parallel processes, execute:\n",
    "````\n",
    "python source/run_cddd_inference_server.py --device 0 --nservers 2\n",
    "\n",
    "````\n",
    "On the console following message should be printed out:\n",
    "```\n",
    "Using GPU devices: 0\n",
    "Total number of servers to spin up: 2\n",
    "Server running on GPU  0\n",
    "Server running on GPU  0\n",
    "```\n",
    "You can additionally check if the GPU-0 device is blocked by simply executing:\n",
    "`nvidia-smi`"
   ]
  },
  {
   "cell_type": "markdown",
   "metadata": {},
   "source": [
    "#### Load needed cddd modules"
   ]
  },
  {
   "cell_type": "code",
   "execution_count": 1,
   "metadata": {},
   "outputs": [],
   "source": [
    "from cddd.inference import InferenceServer"
   ]
  },
  {
   "cell_type": "markdown",
   "metadata": {},
   "source": [
    "#### Here we will spin 6 CDDD servers distributed on 3 GPUs\n",
    "Execute following command in another shell with the `neuraldecipher` environment\n",
    "```\n",
    "python source/run_cddd_inference_server.py --device 0,1,2 --nservers 6\n",
    "```"
   ]
  },
  {
   "cell_type": "code",
   "execution_count": 2,
   "metadata": {},
   "outputs": [],
   "source": [
    "import numpy as np\n",
    "from multiprocessing import Pool"
   ]
  },
  {
   "cell_type": "code",
   "execution_count": 3,
   "metadata": {},
   "outputs": [],
   "source": [
    "smiles_list = np.load(\"../data/smiles.npy\", allow_pickle=True).tolist()"
   ]
  },
  {
   "cell_type": "code",
   "execution_count": 4,
   "metadata": {},
   "outputs": [
    {
     "name": "stdout",
     "output_type": "stream",
     "text": [
      "1526990\n"
     ]
    }
   ],
   "source": [
    "print(len(smiles_list))"
   ]
  },
  {
   "cell_type": "code",
   "execution_count": 5,
   "metadata": {},
   "outputs": [],
   "source": [
    "inference_server = InferenceServer(port_frontend=5527, use_running=True)"
   ]
  },
  {
   "cell_type": "code",
   "execution_count": 6,
   "metadata": {},
   "outputs": [],
   "source": [
    "### Utility function to create batches from a large list\n",
    "def get_batches_from_large_list(large_list, batch_size):\n",
    "    n_batches = len(large_list) // batch_size\n",
    "    rest_indices = len(large_list) - n_batches*batch_size\n",
    "    last_start = n_batches*batch_size\n",
    "    last_end = last_start + rest_indices\n",
    "    batches = [large_list[i*batch_size:(i+1)*batch_size] for i in range(n_batches)]\n",
    "    batches.append(large_list[last_start:last_end])\n",
    "    return batches"
   ]
  },
  {
   "cell_type": "code",
   "execution_count": 7,
   "metadata": {},
   "outputs": [],
   "source": [
    "smiles_list = get_batches_from_large_list(smiles_list, 1024)"
   ]
  },
  {
   "cell_type": "code",
   "execution_count": 8,
   "metadata": {},
   "outputs": [
    {
     "name": "stdout",
     "output_type": "stream",
     "text": [
      "1492\n"
     ]
    }
   ],
   "source": [
    "print(len(smiles_list))"
   ]
  },
  {
   "cell_type": "markdown",
   "metadata": {},
   "source": [
    "### Encode the SMILES representations into CDDDs\n",
    "##### Note:\n",
    "Since we are using 6 CDDD inference servers, we can set the pool of workers to 6"
   ]
  },
  {
   "cell_type": "code",
   "execution_count": 9,
   "metadata": {},
   "outputs": [],
   "source": [
    "def encode_smiles(batch_list, npool=6):\n",
    "    with Pool(npool) as pool:\n",
    "        encoded_cddd = pool.map(inference_server.seq_to_emb, batch_list)\n",
    "    return encoded_cddd"
   ]
  },
  {
   "cell_type": "code",
   "execution_count": 10,
   "metadata": {},
   "outputs": [
    {
     "name": "stdout",
     "output_type": "stream",
     "text": [
      "CPU times: user 3.23 s, sys: 6.7 s, total: 9.92 s\n",
      "Wall time: 6min 44s\n"
     ]
    }
   ],
   "source": [
    "%%time\n",
    "cddds = encode_smiles(batch_list=smiles_list, npool=6)"
   ]
  },
  {
   "cell_type": "code",
   "execution_count": 11,
   "metadata": {},
   "outputs": [],
   "source": [
    "cddds = np.concatenate(cddds)"
   ]
  },
  {
   "cell_type": "code",
   "execution_count": 12,
   "metadata": {},
   "outputs": [
    {
     "name": "stdout",
     "output_type": "stream",
     "text": [
      "(1526990, 512)\n"
     ]
    }
   ],
   "source": [
    "print(cddds.shape)"
   ]
  },
  {
   "cell_type": "markdown",
   "metadata": {},
   "source": [
    "#### Saving the cddd data "
   ]
  },
  {
   "cell_type": "code",
   "execution_count": 13,
   "metadata": {},
   "outputs": [],
   "source": [
    "import h5py"
   ]
  },
  {
   "cell_type": "code",
   "execution_count": 14,
   "metadata": {},
   "outputs": [
    {
     "name": "stdout",
     "output_type": "stream",
     "text": [
      "Finished.\n"
     ]
    }
   ],
   "source": [
    "hf = h5py.File(\"../data/cddd.hdf5\", \"w\")\n",
    "hf.create_dataset(\"cddd\", data=cddds)\n",
    "hf.close()\n",
    "print(\"Finished.\")"
   ]
  },
  {
   "cell_type": "markdown",
   "metadata": {},
   "source": [
    "#### Stop the CDDD inference server execution in your other shell "
   ]
  },
  {
   "cell_type": "code",
   "execution_count": null,
   "metadata": {},
   "outputs": [],
   "source": []
  }
 ],
 "metadata": {
  "kernelspec": {
   "display_name": "Python 3",
   "language": "python",
   "name": "python3"
  },
  "language_info": {
   "codemirror_mode": {
    "name": "ipython",
    "version": 3
   },
   "file_extension": ".py",
   "mimetype": "text/x-python",
   "name": "python",
   "nbconvert_exporter": "python",
   "pygments_lexer": "ipython3",
   "version": "3.6.10"
  }
 },
 "nbformat": 4,
 "nbformat_minor": 4
}
